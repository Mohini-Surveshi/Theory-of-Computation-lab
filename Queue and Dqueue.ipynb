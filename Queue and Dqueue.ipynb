{
 "cells": [
  {
   "cell_type": "markdown",
   "metadata": {},
   "source": [
    "WAP for Queue implementation."
   ]
  },
  {
   "cell_type": "code",
   "execution_count": 1,
   "metadata": {},
   "outputs": [
    {
     "name": "stdin",
     "output_type": "stream",
     "text": [
      "enter your choice: 0-exit 1-insert 2-delete 1\n",
      "Enter number to be inserted: 10\n",
      "enter your choice: 0-exit 1-insert 2-delete 1\n",
      "Enter number to be inserted: 20\n",
      "enter your choice: 0-exit 1-insert 2-delete 1\n",
      "Enter number to be inserted: 30\n",
      "enter your choice: 0-exit 1-insert 2-delete 2\n"
     ]
    },
    {
     "name": "stdout",
     "output_type": "stream",
     "text": [
      "element deleted: 10\n"
     ]
    },
    {
     "name": "stdin",
     "output_type": "stream",
     "text": [
      "enter your choice: 0-exit 1-insert 2-delete 0\n"
     ]
    }
   ],
   "source": [
    "class Queue:\n",
    "    def __init__(self):\n",
    "        self.a=[]\n",
    "    def enqueue(self,i):\n",
    "        self.a.append(i)\n",
    "    def delete(self):\n",
    "        if (len(self.a)==0):\n",
    "            print(\"queue is empty\")\n",
    "        else:\n",
    "            return self.a.pop(0)\n",
    "q=Queue()\n",
    "ch=int(input(\"enter your choice: 0-exit 1-insert 2-delete\"))\n",
    "while ch!=0:\n",
    "    if (ch==1):\n",
    "        j=input(\"Enter number to be inserted:\")\n",
    "        q.enqueue(j)\n",
    "    else:\n",
    "        print(\"element deleted: \"+q.delete())\n",
    "    ch=int(input(\"enter your choice: 0-exit 1-insert 2-delete\"))"
   ]
  },
  {
   "cell_type": "markdown",
   "metadata": {},
   "source": [
    "WAP for Doubly Queue implementation."
   ]
  },
  {
   "cell_type": "code",
   "execution_count": null,
   "metadata": {},
   "outputs": [
    {
     "name": "stdin",
     "output_type": "stream",
     "text": [
      "Enter your choice: 0-exit 1-insert 2-delete 1\n",
      "Where you want to insert the element:1-front 2-rear 1\n",
      "Enter element:  10\n"
     ]
    },
    {
     "name": "stdout",
     "output_type": "stream",
     "text": [
      "['10']\n"
     ]
    },
    {
     "name": "stdin",
     "output_type": "stream",
     "text": [
      "Enter your choice: 0-exit 1-insert 2-delete 1\n",
      "Where you want to insert the element:1-front 2-rear 1\n",
      "Enter element:  20\n"
     ]
    },
    {
     "name": "stdout",
     "output_type": "stream",
     "text": [
      "['20', '10']\n"
     ]
    },
    {
     "name": "stdin",
     "output_type": "stream",
     "text": [
      "Enter your choice: 0-exit 1-insert 2-delete 1\n",
      "Where you want to insert the element:1-front 2-rear 2\n",
      "Enter element:  50\n"
     ]
    },
    {
     "name": "stdout",
     "output_type": "stream",
     "text": [
      "['20', '10', '50']\n"
     ]
    },
    {
     "name": "stdin",
     "output_type": "stream",
     "text": [
      "Enter your choice: 0-exit 1-insert 2-delete 2\n",
      "Enter your choice:1-front 2-rear 1\n"
     ]
    },
    {
     "name": "stdout",
     "output_type": "stream",
     "text": [
      "['10', '50']\n"
     ]
    }
   ],
   "source": [
    "class Dequeue:\n",
    "    def __init__(self):\n",
    "        self.a=[]\n",
    "    def enqueue(self,i,ch):\n",
    "        if (ch==1):\n",
    "            self.a.insert(0,i)\n",
    "            print(self.a)\n",
    "        else:\n",
    "            self.a.append(i)\n",
    "            print(self.a)\n",
    "    def delete(self,ch):\n",
    "        if (len(self.a)==0):\n",
    "            print(\"queue is empty\")\n",
    "        elif (ch==1):\n",
    "            self.a.pop(0)\n",
    "            print(self.a)\n",
    "        else:\n",
    "            self.a.pop(-1)\n",
    "            print(self.a)\n",
    "q=Dequeue()\n",
    "ch=int(input(\"Enter your choice: 0-exit 1-insert 2-delete\"))\n",
    "while ch!=0:\n",
    "    if (ch==1):\n",
    "        ch1=int(input(\"Where you want to insert the element:1-front 2-rear\"))\n",
    "        j=input(\"Enter element: \")\n",
    "        q.enqueue(j,ch1)\n",
    "    else:\n",
    "        ch2=int(input(\"Enter your choice:1-front 2-rear\"))\n",
    "        q.delete(ch2)\n",
    "    ch=int(input(\"Enter your choice: 0-exit 1-insert 2-delete\"))"
   ]
  },
  {
   "cell_type": "code",
   "execution_count": null,
   "metadata": {},
   "outputs": [],
   "source": []
  }
 ],
 "metadata": {
  "kernelspec": {
   "display_name": "Python 3",
   "language": "python",
   "name": "python3"
  },
  "language_info": {
   "codemirror_mode": {
    "name": "ipython",
    "version": 3
   },
   "file_extension": ".py",
   "mimetype": "text/x-python",
   "name": "python",
   "nbconvert_exporter": "python",
   "pygments_lexer": "ipython3",
   "version": "3.7.3"
  }
 },
 "nbformat": 4,
 "nbformat_minor": 4
}
