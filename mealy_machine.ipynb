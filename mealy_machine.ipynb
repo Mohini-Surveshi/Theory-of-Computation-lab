{
 "cells": [
  {
   "cell_type": "markdown",
   "metadata": {},
   "source": [
    "Mealy machine that output even or odd as number of 1's are even or odd-Method 1"
   ]
  },
  {
   "cell_type": "code",
   "execution_count": 1,
   "metadata": {},
   "outputs": [],
   "source": [
    "def Mealymachine(str):\n",
    "    dfa = {'q0':{'0':{'output':'even','state':'q0'},'1':{'output':'odd','state':'q1'}},'q1':{'0':{'output':'odd','state':'q1'},'1':{'output':'even','state':'q0'}}}\n",
    "    cs='q0'\n",
    "    for i in str:\n",
    "        co = dfa[cs][i]['output']\n",
    "        cs=dfa[cs][i]['state']\n",
    "\n",
    "    print('current state:'+cs)\n",
    "    print(\"current output:\" +co)"
   ]
  },
  {
   "cell_type": "code",
   "execution_count": 2,
   "metadata": {},
   "outputs": [
    {
     "name": "stdout",
     "output_type": "stream",
     "text": [
      "current state:q0\n",
      "current output:even\n"
     ]
    }
   ],
   "source": [
    "Mealymachine(\"1100\")"
   ]
  },
  {
   "cell_type": "code",
   "execution_count": 3,
   "metadata": {},
   "outputs": [
    {
     "name": "stdout",
     "output_type": "stream",
     "text": [
      "current state:q0\n",
      "current output:even\n"
     ]
    }
   ],
   "source": [
    "Mealymachine(\"10101010\")"
   ]
  },
  {
   "cell_type": "code",
   "execution_count": 4,
   "metadata": {},
   "outputs": [
    {
     "name": "stdout",
     "output_type": "stream",
     "text": [
      "current state:q1\n",
      "current output:odd\n"
     ]
    }
   ],
   "source": [
    "Mealymachine(\"110011001\")"
   ]
  },
  {
   "cell_type": "markdown",
   "metadata": {},
   "source": [
    "Mealy machine that output even or odd as number of 1's are even or odd-Method 2"
   ]
  },
  {
   "cell_type": "code",
   "execution_count": 5,
   "metadata": {},
   "outputs": [],
   "source": [
    "def Mealy(str):\n",
    "    dfa={'q0':{'0':('even','q0'),'1':('odd','q1')},'q1':{'0':('odd','q1'),'1':('even','q0')}}\n",
    "    cs='q0'\n",
    "    for i in str:\n",
    "        co = dfa[cs][i][0]\n",
    "        cs=dfa[cs][i][1]\n",
    "\n",
    "    print('current state:'+cs)\n",
    "    print(\"current output:\" +co)"
   ]
  },
  {
   "cell_type": "code",
   "execution_count": 6,
   "metadata": {},
   "outputs": [
    {
     "name": "stdout",
     "output_type": "stream",
     "text": [
      "current state:q0\n",
      "current output:even\n"
     ]
    }
   ],
   "source": [
    "Mealy(\"110011\")"
   ]
  },
  {
   "cell_type": "code",
   "execution_count": 7,
   "metadata": {},
   "outputs": [
    {
     "name": "stdout",
     "output_type": "stream",
     "text": [
      "current state:q1\n",
      "current output:odd\n"
     ]
    }
   ],
   "source": [
    "Mealy(\"1100111000011\")"
   ]
  },
  {
   "cell_type": "markdown",
   "metadata": {},
   "source": [
    "Mealy machine that output even or odd as number of 1's are even or odd-Method 3"
   ]
  },
  {
   "cell_type": "code",
   "execution_count": 8,
   "metadata": {},
   "outputs": [],
   "source": [
    "def Mealy_machine(str):\n",
    "    dfa={'q0':{'0':['even','q0'],'1':['odd','q1']},'q1':{'0':['odd','q1'],'1':['even','q0']}}\n",
    "    cs='q0'\n",
    "    for i in str:\n",
    "        co = dfa[cs][i][0]\n",
    "        cs=dfa[cs][i][1]\n",
    "\n",
    "    print('current state:'+cs)\n",
    "    print(\"current output:\" +co)"
   ]
  },
  {
   "cell_type": "code",
   "execution_count": 9,
   "metadata": {},
   "outputs": [
    {
     "name": "stdout",
     "output_type": "stream",
     "text": [
      "current state:q0\n",
      "current output:even\n"
     ]
    }
   ],
   "source": [
    "Mealy_machine(\"110011001100\")"
   ]
  },
  {
   "cell_type": "code",
   "execution_count": 10,
   "metadata": {},
   "outputs": [
    {
     "name": "stdout",
     "output_type": "stream",
     "text": [
      "current state:q1\n",
      "current output:odd\n"
     ]
    }
   ],
   "source": [
    "Mealy_machine(\"111111001\")"
   ]
  },
  {
   "cell_type": "markdown",
   "metadata": {},
   "source": [
    "Mealy machine that output even or odd as number of 1's are even or odd-Method 4"
   ]
  },
  {
   "cell_type": "code",
   "execution_count": 11,
   "metadata": {},
   "outputs": [],
   "source": [
    "def dfa1(str):\n",
    "    d={'a':{'0':'even','1':'odd'},'b':{'0':'odd','1':'even'}}\n",
    "    st='a'\n",
    "    for i in str:\n",
    "        o=d[st][i]\n",
    "        if o=='odd':\n",
    "            st='b'\n",
    "        else:\n",
    "            st='a'\n",
    "    print(o)"
   ]
  },
  {
   "cell_type": "code",
   "execution_count": 12,
   "metadata": {},
   "outputs": [
    {
     "name": "stdout",
     "output_type": "stream",
     "text": [
      "even\n"
     ]
    }
   ],
   "source": [
    "dfa1(\"110011\")"
   ]
  },
  {
   "cell_type": "code",
   "execution_count": 13,
   "metadata": {},
   "outputs": [
    {
     "name": "stdout",
     "output_type": "stream",
     "text": [
      "odd\n"
     ]
    }
   ],
   "source": [
    "dfa1(\"11111\")"
   ]
  },
  {
   "cell_type": "markdown",
   "metadata": {},
   "source": [
    "Mealy machine that increment a binary number by 1"
   ]
  },
  {
   "cell_type": "code",
   "execution_count": 14,
   "metadata": {},
   "outputs": [],
   "source": [
    "def increment(str):\n",
    "    dfa = {'q0':{'0':{'output':1,'state':'q1'},'1':{'output':0,'state':'q0'}},'q1':{'0':{'output':0,'state':'q1'},'1':{'output':1,'state':'q1'}}}\n",
    "    str1=str[::-1]\n",
    "    cs='q0'\n",
    "    co1=[]\n",
    "    for i in str1:\n",
    "        co = dfa[cs][i]['output']\n",
    "        co1.append(co)\n",
    "        cs=dfa[cs][i]['state']\n",
    "    def Reverse(lst): \n",
    "        lst.reverse() \n",
    "        return lst \n",
    "    print(\"output:\")\n",
    "    Reverse(co1)\n",
    "    for i in co1: \n",
    "        print(i, end=\"\") "
   ]
  },
  {
   "cell_type": "code",
   "execution_count": 15,
   "metadata": {},
   "outputs": [
    {
     "name": "stdout",
     "output_type": "stream",
     "text": [
      "output:\n",
      "111100"
     ]
    }
   ],
   "source": [
    "increment(\"111011\")"
   ]
  },
  {
   "cell_type": "code",
   "execution_count": 16,
   "metadata": {},
   "outputs": [
    {
     "name": "stdout",
     "output_type": "stream",
     "text": [
      "output:\n",
      "111111"
     ]
    }
   ],
   "source": [
    "increment(\"111110\")"
   ]
  },
  {
   "cell_type": "code",
   "execution_count": 17,
   "metadata": {},
   "outputs": [
    {
     "name": "stdout",
     "output_type": "stream",
     "text": [
      "output:\n",
      "100000"
     ]
    }
   ],
   "source": [
    "increment(\"011111\")"
   ]
  },
  {
   "cell_type": "code",
   "execution_count": 18,
   "metadata": {},
   "outputs": [
    {
     "name": "stdout",
     "output_type": "stream",
     "text": [
      "output:\n",
      "00000"
     ]
    }
   ],
   "source": [
    "increment(\"11111\")"
   ]
  },
  {
   "cell_type": "markdown",
   "metadata": {},
   "source": [
    "Mealy machine that output 2's complement of a binary number"
   ]
  },
  {
   "cell_type": "code",
   "execution_count": 19,
   "metadata": {},
   "outputs": [],
   "source": [
    "def complement(str):\n",
    "    dfa = {'q0':{'0':{'output':0,'state':'q0'},'1':{'output':1,'state':'q1'}},'q1':{'0':{'output':1,'state':'q1'},'1':{'output':0,'state':'q1'}}}\n",
    "    str1=str[::-1]\n",
    "    cs='q0'\n",
    "    co1=[]\n",
    "    for i in str1:\n",
    "        co = dfa[cs][i]['output']\n",
    "        co1.append(co)\n",
    "        cs=dfa[cs][i]['state']\n",
    "    def Reverse(lst): \n",
    "        lst.reverse() \n",
    "        return lst \n",
    "    print(\"current output:\")\n",
    "    Reverse(co1)\n",
    "    for i in co1: \n",
    "        print(i, end=\"\") "
   ]
  },
  {
   "cell_type": "code",
   "execution_count": 20,
   "metadata": {},
   "outputs": [
    {
     "name": "stdout",
     "output_type": "stream",
     "text": [
      "current output:\n",
      "0111"
     ]
    }
   ],
   "source": [
    "complement(\"1001\")"
   ]
  },
  {
   "cell_type": "code",
   "execution_count": 21,
   "metadata": {},
   "outputs": [
    {
     "name": "stdout",
     "output_type": "stream",
     "text": [
      "current output:\n",
      "01110100"
     ]
    }
   ],
   "source": [
    "complement(\"10001100\")"
   ]
  },
  {
   "cell_type": "code",
   "execution_count": null,
   "metadata": {},
   "outputs": [],
   "source": []
  }
 ],
 "metadata": {
  "kernelspec": {
   "display_name": "Python 3",
   "language": "python",
   "name": "python3"
  },
  "language_info": {
   "codemirror_mode": {
    "name": "ipython",
    "version": 3
   },
   "file_extension": ".py",
   "mimetype": "text/x-python",
   "name": "python",
   "nbconvert_exporter": "python",
   "pygments_lexer": "ipython3",
   "version": "3.7.3"
  }
 },
 "nbformat": 4,
 "nbformat_minor": 4
}
