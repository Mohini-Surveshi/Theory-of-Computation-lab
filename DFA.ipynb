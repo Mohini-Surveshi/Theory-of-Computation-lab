{
 "cells": [
  {
   "cell_type": "markdown",
   "metadata": {},
   "source": [
    "WAP for Deterministic Finite Automata (DFA)."
   ]
  },
  {
   "cell_type": "code",
   "execution_count": 5,
   "metadata": {},
   "outputs": [
    {
     "name": "stdin",
     "output_type": "stream",
     "text": [
      "Enter the string: abba\n"
     ]
    },
    {
     "name": "stdout",
     "output_type": "stream",
     "text": [
      "Valid string\n",
      "DO YOU WANT TO CONTINUE y OR n\n"
     ]
    },
    {
     "name": "stdin",
     "output_type": "stream",
     "text": [
      " y\n",
      "Enter the string: baaba\n"
     ]
    },
    {
     "name": "stdout",
     "output_type": "stream",
     "text": [
      "Invalid string\n",
      "DO YOU WANT TO CONTINUE y OR n\n"
     ]
    },
    {
     "name": "stdin",
     "output_type": "stream",
     "text": [
      " n\n"
     ]
    },
    {
     "name": "stdout",
     "output_type": "stream",
     "text": [
      "YOU ARE EXITED\n"
     ]
    }
   ],
   "source": [
    "class DFA:\n",
    "    def D_F_A(self):\n",
    "        dfa={0:{'a':1,'b':2},1:{'a':1,'b':1},2:{'a':2,'b':2}}\n",
    "        exp=input(\"Enter the string:\")\n",
    "        flag=1\n",
    "        for i in exp:\n",
    "            if (exp.count('a')+exp.count('b')!=len(exp)):\n",
    "                print(\"Invalid string\")\n",
    "                flag=0\n",
    "                break\n",
    "        if (flag==1):\n",
    "            if (exp[0]!='a'):\n",
    "                print(\"Invalid string\")\n",
    "            else:\n",
    "                print(\"Valid string\")\n",
    "d=DFA()\n",
    "d.D_F_A()\n",
    "while 1:\n",
    "    print(\"DO YOU WANT TO CONTINUE y OR n\")\n",
    "    ch=input()\n",
    "    if ch==\"y\":\n",
    "        d.D_F_A()\n",
    "    else:\n",
    "        print(\"YOU ARE EXITED\")\n",
    "        break"
   ]
  },
  {
   "cell_type": "code",
   "execution_count": null,
   "metadata": {},
   "outputs": [],
   "source": []
  }
 ],
 "metadata": {
  "kernelspec": {
   "display_name": "Python 3",
   "language": "python",
   "name": "python3"
  },
  "language_info": {
   "codemirror_mode": {
    "name": "ipython",
    "version": 3
   },
   "file_extension": ".py",
   "mimetype": "text/x-python",
   "name": "python",
   "nbconvert_exporter": "python",
   "pygments_lexer": "ipython3",
   "version": "3.7.3"
  }
 },
 "nbformat": 4,
 "nbformat_minor": 4
}
