{
 "cells": [
  {
   "cell_type": "code",
   "execution_count": 1,
   "metadata": {},
   "outputs": [],
   "source": [
    "class stack:\n",
    "    def __init__(self):\n",
    "        self.a=[]\n",
    "    def push(self,item):\n",
    "        self.a.append(item)\n",
    "    def pop(self):\n",
    "        self.a.pop()\n",
    "    def size(self):\n",
    "        return len(self.a)\n",
    "    def isempty(self):\n",
    "        return len(self.a)==0"
   ]
  },
  {
   "cell_type": "markdown",
   "metadata": {},
   "source": [
    "PDA for a^nb^n"
   ]
  },
  {
   "cell_type": "code",
   "execution_count": 2,
   "metadata": {},
   "outputs": [
    {
     "name": "stdin",
     "output_type": "stream",
     "text": [
      " aaabbb\n"
     ]
    },
    {
     "name": "stdout",
     "output_type": "stream",
     "text": [
      "String: aaabbb\n",
      "Valid String\n"
     ]
    }
   ],
   "source": [
    "flag=1\n",
    "obj=stack()\n",
    "str=input()\n",
    "print(\"String:\",str)\n",
    "for i in str:\n",
    "    if i=='a':\n",
    "        obj.push(i)\n",
    "    else:\n",
    "        try:\n",
    "            obj.pop()\n",
    "        except:\n",
    "            flag=0\n",
    "if obj.size()==0 and flag==1:\n",
    "    print(\"Valid String\")\n",
    "else:\n",
    "    print(\"Invalid String\")"
   ]
  },
  {
   "cell_type": "code",
   "execution_count": 3,
   "metadata": {},
   "outputs": [
    {
     "name": "stdin",
     "output_type": "stream",
     "text": [
      " aabbb\n"
     ]
    },
    {
     "name": "stdout",
     "output_type": "stream",
     "text": [
      "String: aabbb\n",
      "Invalid String\n"
     ]
    }
   ],
   "source": [
    "flag=1\n",
    "obj=stack()\n",
    "str=input()\n",
    "print(\"String:\",str)\n",
    "for i in str:\n",
    "    if i=='a':\n",
    "        obj.push(i)\n",
    "    else:\n",
    "        try:\n",
    "            obj.pop()\n",
    "        except:\n",
    "            flag=0\n",
    "if obj.size()==0 and flag==1:\n",
    "    print(\"Valid String\")\n",
    "else:\n",
    "    print(\"Invalid String\")"
   ]
  },
  {
   "cell_type": "markdown",
   "metadata": {},
   "source": [
    "PDA for balanced parenthesis"
   ]
  },
  {
   "cell_type": "code",
   "execution_count": 4,
   "metadata": {},
   "outputs": [
    {
     "name": "stdin",
     "output_type": "stream",
     "text": [
      " ((()))\n"
     ]
    },
    {
     "name": "stdout",
     "output_type": "stream",
     "text": [
      "String: ((()))\n",
      "Balanced!\n"
     ]
    }
   ],
   "source": [
    "flag=1\n",
    "obj=stack()\n",
    "str=input()\n",
    "print(\"String:\",str)\n",
    "for i in str:\n",
    "    if i=='(':\n",
    "        obj.push(i)\n",
    "    else:\n",
    "        try:\n",
    "            obj.pop()\n",
    "        except:\n",
    "            flag=0\n",
    "if obj.size()==0 and flag==1:\n",
    "    print(\"Balanced!\")\n",
    "else:\n",
    "    print(\"Sting is not balanced!\")"
   ]
  },
  {
   "cell_type": "code",
   "execution_count": 5,
   "metadata": {},
   "outputs": [
    {
     "name": "stdin",
     "output_type": "stream",
     "text": [
      " )))(((\n"
     ]
    },
    {
     "name": "stdout",
     "output_type": "stream",
     "text": [
      "String: )))(((\n",
      "Sting is not balanced!\n"
     ]
    }
   ],
   "source": [
    "flag=1\n",
    "obj=stack()\n",
    "str=input()\n",
    "print(\"String:\",str)\n",
    "for i in str:\n",
    "    if i=='(':\n",
    "        obj.push(i)\n",
    "    else:\n",
    "        try:\n",
    "            obj.pop()\n",
    "        except:\n",
    "            flag=0\n",
    "if obj.size()==0 and flag==1:\n",
    "    print(\"Balanced!\")\n",
    "else:\n",
    "    print(\"Sting is not balanced!\")"
   ]
  },
  {
   "cell_type": "code",
   "execution_count": 6,
   "metadata": {},
   "outputs": [
    {
     "name": "stdin",
     "output_type": "stream",
     "text": [
      " (()))\n"
     ]
    },
    {
     "name": "stdout",
     "output_type": "stream",
     "text": [
      "String: (()))\n",
      "Sting is not balanced!\n"
     ]
    }
   ],
   "source": [
    "flag=1\n",
    "obj=stack()\n",
    "str=input()\n",
    "print(\"String:\",str)\n",
    "for i in str:\n",
    "    if i=='(':\n",
    "        obj.push(i)\n",
    "    else:\n",
    "        try:\n",
    "            obj.pop()\n",
    "        except:\n",
    "            flag=0\n",
    "if obj.size()==0 and flag==1:\n",
    "    print(\"Balanced!\")\n",
    "else:\n",
    "    print(\"Sting is not balanced!\")"
   ]
  },
  {
   "cell_type": "code",
   "execution_count": null,
   "metadata": {},
   "outputs": [],
   "source": []
  }
 ],
 "metadata": {
  "kernelspec": {
   "display_name": "Python 3",
   "language": "python",
   "name": "python3"
  },
  "language_info": {
   "codemirror_mode": {
    "name": "ipython",
    "version": 3
   },
   "file_extension": ".py",
   "mimetype": "text/x-python",
   "name": "python",
   "nbconvert_exporter": "python",
   "pygments_lexer": "ipython3",
   "version": "3.7.3"
  }
 },
 "nbformat": 4,
 "nbformat_minor": 4
}
