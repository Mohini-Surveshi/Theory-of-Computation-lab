{
 "cells": [
  {
   "cell_type": "markdown",
   "metadata": {},
   "source": [
    "WAP to accept a sentence & count number of character,vowel,special symbols and spaces."
   ]
  },
  {
   "cell_type": "code",
   "execution_count": 1,
   "metadata": {},
   "outputs": [
    {
     "name": "stdin",
     "output_type": "stream",
     "text": [
      "Enter the string: acropolis 2017@gmail.com\n"
     ]
    },
    {
     "name": "stdout",
     "output_type": "stream",
     "text": [
      "Vowels: 7\n",
      "Consonants: 10\n",
      "Digits: 4\n",
      "Spaces 1\n",
      "Symbols: 2\n"
     ]
    }
   ],
   "source": [
    "str = input(\"Enter the string:\")\n",
    "vowels=0\n",
    "digits=0\n",
    "consonants=0\n",
    "spaces=0\n",
    "symbols=0\n",
    "str=str.lower()\n",
    "for i in range(0,len(str)):\n",
    "    if(str[i]=='a' or str[i]=='e' or str[i]=='i' or str[i]=='o' or str[i]=='u'):\n",
    "        vowels=vowels+1\n",
    "    elif(str[i]>='a' and str[i]<='z'):\n",
    "            consonants=consonants+1\n",
    "    elif(str[i]>='0' and str[i]<='9'):\n",
    "        digits=digits+1\n",
    "    elif(str[i]==' '):\n",
    "        spaces=spaces+1\n",
    "    else:\n",
    "        symbols=symbols+1\n",
    "print(\"Vowels:\",vowels)\n",
    "print(\"Consonants:\",consonants)\n",
    "print(\"Digits:\",digits)\n",
    "print(\"Spaces\",spaces)\n",
    "print(\"Symbols:\",symbols)"
   ]
  },
  {
   "cell_type": "markdown",
   "metadata": {},
   "source": [
    "WAP to read a file and found the number of words."
   ]
  },
  {
   "cell_type": "code",
   "execution_count": null,
   "metadata": {},
   "outputs": [],
   "source": [
    "file_name= input(\"enter file name: \")\n",
    "nw = 0\n",
    "with open(file_name,'r') as f:\n",
    "    for line in f:\n",
    "        words=line.split()\n",
    "        nw+=len(words)\n",
    "print(\"Number of words:\",nw)"
   ]
  },
  {
   "cell_type": "markdown",
   "metadata": {},
   "source": [
    "WAP to accept a string contaning multiple 'is' and replace with 'was'."
   ]
  },
  {
   "cell_type": "code",
   "execution_count": 2,
   "metadata": {},
   "outputs": [
    {
     "name": "stdin",
     "output_type": "stream",
     "text": [
      "Enter the sentence: it is cold.\n"
     ]
    },
    {
     "name": "stdout",
     "output_type": "stream",
     "text": [
      "it was cold.\n"
     ]
    }
   ],
   "source": [
    "s=input(\"Enter the sentence:\")\n",
    "word=s.replace(' is ' , ' was ')\n",
    "print(word)"
   ]
  }
 ],
 "metadata": {
  "kernelspec": {
   "display_name": "Python 3",
   "language": "python",
   "name": "python3"
  },
  "language_info": {
   "codemirror_mode": {
    "name": "ipython",
    "version": 3
   },
   "file_extension": ".py",
   "mimetype": "text/x-python",
   "name": "python",
   "nbconvert_exporter": "python",
   "pygments_lexer": "ipython3",
   "version": "3.7.3"
  }
 },
 "nbformat": 4,
 "nbformat_minor": 4
}
