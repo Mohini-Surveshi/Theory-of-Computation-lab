{
 "cells": [
  {
   "cell_type": "markdown",
   "metadata": {},
   "source": [
    "DFA"
   ]
  },
  {
   "cell_type": "code",
   "execution_count": 1,
   "metadata": {},
   "outputs": [],
   "source": [
    "class DFA:\n",
    "  def __init__(self):\n",
    "    self.d={}\n",
    "    self.state=int(input(\"Enter number of state: \"))\n",
    "    print(\"Number of state:\",self.state)\n",
    "    self.l=[x for x in input(\"Enter alphabet value: \").split()]\n",
    "    print(\"Alphabet: \",self.l)\n",
    "    self.r=\"A\"\n",
    "    for i in range(self.state):\n",
    "      self.d[self.r]={}\n",
    "      for j in self.l:\n",
    "        a=input()\n",
    "        print(self.r,\"on input\",j,\"move to state= \",a)\n",
    "        \n",
    "        self.d[self.r][j]=a\n",
    "      self.r=chr(ord(self.r)+1)\n",
    "    self.ini=input(\"Enter initial state: \")\n",
    "    print(\"Initial state: \",self.ini)\n",
    "    self.f=input(\"Enter final state: \")\n",
    "    print(\"Final state: \",self.f)\n",
    "  def true_string(self,st):\n",
    "    x=self.ini\n",
    "    for i in st:\n",
    "      x=self.d[x][i]\n",
    "    return x==self.f\n"
   ]
  },
  {
   "cell_type": "markdown",
   "metadata": {},
   "source": [
    "Machine that accepts all the string containing 3 consecutive 1's"
   ]
  },
  {
   "cell_type": "code",
   "execution_count": 2,
   "metadata": {},
   "outputs": [
    {
     "name": "stdin",
     "output_type": "stream",
     "text": [
      "Enter number of state:  4\n"
     ]
    },
    {
     "name": "stdout",
     "output_type": "stream",
     "text": [
      "Number of state: 4\n"
     ]
    },
    {
     "name": "stdin",
     "output_type": "stream",
     "text": [
      "Enter alphabet value:  0 1\n"
     ]
    },
    {
     "name": "stdout",
     "output_type": "stream",
     "text": [
      "Alphabet:  ['0', '1']\n"
     ]
    },
    {
     "name": "stdin",
     "output_type": "stream",
     "text": [
      " A\n"
     ]
    },
    {
     "name": "stdout",
     "output_type": "stream",
     "text": [
      "A on input 0 move to state=  A\n"
     ]
    },
    {
     "name": "stdin",
     "output_type": "stream",
     "text": [
      " B\n"
     ]
    },
    {
     "name": "stdout",
     "output_type": "stream",
     "text": [
      "A on input 1 move to state=  B\n"
     ]
    },
    {
     "name": "stdin",
     "output_type": "stream",
     "text": [
      " A\n"
     ]
    },
    {
     "name": "stdout",
     "output_type": "stream",
     "text": [
      "B on input 0 move to state=  A\n"
     ]
    },
    {
     "name": "stdin",
     "output_type": "stream",
     "text": [
      " C\n"
     ]
    },
    {
     "name": "stdout",
     "output_type": "stream",
     "text": [
      "B on input 1 move to state=  C\n"
     ]
    },
    {
     "name": "stdin",
     "output_type": "stream",
     "text": [
      " A\n"
     ]
    },
    {
     "name": "stdout",
     "output_type": "stream",
     "text": [
      "C on input 0 move to state=  A\n"
     ]
    },
    {
     "name": "stdin",
     "output_type": "stream",
     "text": [
      " D\n"
     ]
    },
    {
     "name": "stdout",
     "output_type": "stream",
     "text": [
      "C on input 1 move to state=  D\n"
     ]
    },
    {
     "name": "stdin",
     "output_type": "stream",
     "text": [
      " D\n"
     ]
    },
    {
     "name": "stdout",
     "output_type": "stream",
     "text": [
      "D on input 0 move to state=  D\n"
     ]
    },
    {
     "name": "stdin",
     "output_type": "stream",
     "text": [
      " D\n"
     ]
    },
    {
     "name": "stdout",
     "output_type": "stream",
     "text": [
      "D on input 1 move to state=  D\n"
     ]
    },
    {
     "name": "stdin",
     "output_type": "stream",
     "text": [
      "Enter initial state:  A\n"
     ]
    },
    {
     "name": "stdout",
     "output_type": "stream",
     "text": [
      "Initial state:  A\n"
     ]
    },
    {
     "name": "stdin",
     "output_type": "stream",
     "text": [
      "Enter final state:  D\n"
     ]
    },
    {
     "name": "stdout",
     "output_type": "stream",
     "text": [
      "Final state:  D\n"
     ]
    },
    {
     "name": "stdin",
     "output_type": "stream",
     "text": [
      "Enter string:  1001110\n"
     ]
    },
    {
     "name": "stdout",
     "output_type": "stream",
     "text": [
      "String: 1001110\n",
      "your given string  1001110  is valid.\n"
     ]
    }
   ],
   "source": [
    "o=DFA()\n",
    "s=input(\"Enter string: \")\n",
    "print(\"String:\",s)\n",
    "if (o.true_string(s)):\n",
    "    print(\"your given string \",s,\" is valid.\")\n",
    "else:\n",
    "    print(\"your given string \",s,\" is not valid.\")"
   ]
  },
  {
   "cell_type": "markdown",
   "metadata": {},
   "source": [
    "Machine that accepts all strings that end with 101"
   ]
  },
  {
   "cell_type": "code",
   "execution_count": 3,
   "metadata": {},
   "outputs": [
    {
     "name": "stdin",
     "output_type": "stream",
     "text": [
      "Enter number of state:  4\n"
     ]
    },
    {
     "name": "stdout",
     "output_type": "stream",
     "text": [
      "Number of state: 4\n"
     ]
    },
    {
     "name": "stdin",
     "output_type": "stream",
     "text": [
      "Enter alphabet value:  0 1\n"
     ]
    },
    {
     "name": "stdout",
     "output_type": "stream",
     "text": [
      "Alphabet:  ['0', '1']\n"
     ]
    },
    {
     "name": "stdin",
     "output_type": "stream",
     "text": [
      " A\n"
     ]
    },
    {
     "name": "stdout",
     "output_type": "stream",
     "text": [
      "A on input 0 move to state=  A\n"
     ]
    },
    {
     "name": "stdin",
     "output_type": "stream",
     "text": [
      " B\n"
     ]
    },
    {
     "name": "stdout",
     "output_type": "stream",
     "text": [
      "A on input 1 move to state=  B\n"
     ]
    },
    {
     "name": "stdin",
     "output_type": "stream",
     "text": [
      " C\n"
     ]
    },
    {
     "name": "stdout",
     "output_type": "stream",
     "text": [
      "B on input 0 move to state=  C\n"
     ]
    },
    {
     "name": "stdin",
     "output_type": "stream",
     "text": [
      " B\n"
     ]
    },
    {
     "name": "stdout",
     "output_type": "stream",
     "text": [
      "B on input 1 move to state=  B\n"
     ]
    },
    {
     "name": "stdin",
     "output_type": "stream",
     "text": [
      " A\n"
     ]
    },
    {
     "name": "stdout",
     "output_type": "stream",
     "text": [
      "C on input 0 move to state=  A\n"
     ]
    },
    {
     "name": "stdin",
     "output_type": "stream",
     "text": [
      " D\n"
     ]
    },
    {
     "name": "stdout",
     "output_type": "stream",
     "text": [
      "C on input 1 move to state=  D\n"
     ]
    },
    {
     "name": "stdin",
     "output_type": "stream",
     "text": [
      " C\n"
     ]
    },
    {
     "name": "stdout",
     "output_type": "stream",
     "text": [
      "D on input 0 move to state=  C\n"
     ]
    },
    {
     "name": "stdin",
     "output_type": "stream",
     "text": [
      " B\n"
     ]
    },
    {
     "name": "stdout",
     "output_type": "stream",
     "text": [
      "D on input 1 move to state=  B\n"
     ]
    },
    {
     "name": "stdin",
     "output_type": "stream",
     "text": [
      "Enter initial state:  A\n"
     ]
    },
    {
     "name": "stdout",
     "output_type": "stream",
     "text": [
      "Initial state:  A\n"
     ]
    },
    {
     "name": "stdin",
     "output_type": "stream",
     "text": [
      "Enter final state:  D\n"
     ]
    },
    {
     "name": "stdout",
     "output_type": "stream",
     "text": [
      "Final state:  D\n"
     ]
    },
    {
     "name": "stdin",
     "output_type": "stream",
     "text": [
      "Enter string:  101110101\n"
     ]
    },
    {
     "name": "stdout",
     "output_type": "stream",
     "text": [
      "String: 101110101\n",
      "your given string  101110101  is valid.\n"
     ]
    }
   ],
   "source": [
    "o=DFA()\n",
    "s=input(\"Enter string: \")\n",
    "print(\"String:\",s)\n",
    "if (o.true_string(s)):\n",
    "    print(\"your given string \",s,\" is valid.\")\n",
    "else:\n",
    "    print(\"your given string \",s,\" is not valid.\")"
   ]
  },
  {
   "cell_type": "markdown",
   "metadata": {},
   "source": [
    "Machine for mod3"
   ]
  },
  {
   "cell_type": "code",
   "execution_count": null,
   "metadata": {},
   "outputs": [
    {
     "name": "stdin",
     "output_type": "stream",
     "text": [
      "Enter number of state:  3\n"
     ]
    },
    {
     "name": "stdout",
     "output_type": "stream",
     "text": [
      "Number of state: 3\n"
     ]
    },
    {
     "name": "stdin",
     "output_type": "stream",
     "text": [
      "Enter alphabet value:  0 1\n"
     ]
    },
    {
     "name": "stdout",
     "output_type": "stream",
     "text": [
      "Alphabet:  ['0', '1']\n"
     ]
    },
    {
     "name": "stdin",
     "output_type": "stream",
     "text": [
      " B\n"
     ]
    },
    {
     "name": "stdout",
     "output_type": "stream",
     "text": [
      "A on input 0 move to state=  B\n"
     ]
    },
    {
     "name": "stdin",
     "output_type": "stream",
     "text": [
      " B\n"
     ]
    }
   ],
   "source": [
    "o=DFA()\n",
    "s=input(\"Enter string: \")\n",
    "print(\"String:\",s)\n",
    "if (o.true_string(s)):\n",
    "    print(\"your given string \",s,\" is valid.\")\n",
    "else:\n",
    "    print(\"your given string \",s,\" is not valid.\")"
   ]
  },
  {
   "cell_type": "code",
   "execution_count": null,
   "metadata": {},
   "outputs": [],
   "source": []
  }
 ],
 "metadata": {
  "kernelspec": {
   "display_name": "Python 3",
   "language": "python",
   "name": "python3"
  },
  "language_info": {
   "codemirror_mode": {
    "name": "ipython",
    "version": 3
   },
   "file_extension": ".py",
   "mimetype": "text/x-python",
   "name": "python",
   "nbconvert_exporter": "python",
   "pygments_lexer": "ipython3",
   "version": "3.7.3"
  }
 },
 "nbformat": 4,
 "nbformat_minor": 4
}
