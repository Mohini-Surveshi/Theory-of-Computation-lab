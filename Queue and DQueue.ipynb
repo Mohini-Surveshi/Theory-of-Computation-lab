{
 "cells": [
  {
   "cell_type": "markdown",
   "metadata": {},
   "source": [
    "WAP for Queue implementation."
   ]
  },
  {
   "cell_type": "code",
   "execution_count": 1,
   "metadata": {},
   "outputs": [
    {
     "name": "stdout",
     "output_type": "stream",
     "text": [
      "enter your choice: \n",
      "0-exit \n",
      "1-insert \n",
      "2-delete\n"
     ]
    },
    {
     "name": "stdin",
     "output_type": "stream",
     "text": [
      " 1\n"
     ]
    },
    {
     "name": "stdout",
     "output_type": "stream",
     "text": [
      "Enter number to be inserted:\n"
     ]
    },
    {
     "name": "stdin",
     "output_type": "stream",
     "text": [
      " 10\n"
     ]
    },
    {
     "name": "stdout",
     "output_type": "stream",
     "text": [
      "['10']\n",
      "enter your choice: 0-exit 1-insert 2-delete\n"
     ]
    },
    {
     "name": "stdin",
     "output_type": "stream",
     "text": [
      " 1\n"
     ]
    },
    {
     "name": "stdout",
     "output_type": "stream",
     "text": [
      "Enter number to be inserted:\n"
     ]
    },
    {
     "name": "stdin",
     "output_type": "stream",
     "text": [
      " 20\n"
     ]
    },
    {
     "name": "stdout",
     "output_type": "stream",
     "text": [
      "['10', '20']\n",
      "enter your choice: 0-exit 1-insert 2-delete\n"
     ]
    },
    {
     "name": "stdin",
     "output_type": "stream",
     "text": [
      " 1\n"
     ]
    },
    {
     "name": "stdout",
     "output_type": "stream",
     "text": [
      "Enter number to be inserted:\n"
     ]
    },
    {
     "name": "stdin",
     "output_type": "stream",
     "text": [
      " 30\n"
     ]
    },
    {
     "name": "stdout",
     "output_type": "stream",
     "text": [
      "['10', '20', '30']\n",
      "enter your choice: 0-exit 1-insert 2-delete\n"
     ]
    },
    {
     "name": "stdin",
     "output_type": "stream",
     "text": [
      " 2\n"
     ]
    },
    {
     "name": "stdout",
     "output_type": "stream",
     "text": [
      "element deleted: 10\n",
      "enter your choice: 0-exit 1-insert 2-delete\n"
     ]
    },
    {
     "name": "stdin",
     "output_type": "stream",
     "text": [
      " 0\n"
     ]
    }
   ],
   "source": [
    "class Queue:\n",
    "    def __init__(self):\n",
    "        self.a=[]\n",
    "    def enqueue(self,i):\n",
    "        self.a.append(i)\n",
    "        print(self.a)\n",
    "    def delete(self):\n",
    "        if (len(self.a)==0):\n",
    "            print(\"queue is empty\")\n",
    "        else:\n",
    "            return self.a.pop(0)\n",
    "q=Queue()\n",
    "print(\"enter your choice: \\n0-exit \\n1-insert \\n2-delete\")\n",
    "ch=int(input())\n",
    "while ch!=0:\n",
    "    if (ch==1):\n",
    "        print(\"Enter number to be inserted:\")\n",
    "        j=input()\n",
    "        q.enqueue(j)\n",
    "    else:\n",
    "        print(\"element deleted: \"+q.delete())\n",
    "    print(\"enter your choice: 0-exit 1-insert 2-delete\")\n",
    "    ch=int(input())"
   ]
  },
  {
   "cell_type": "markdown",
   "metadata": {},
   "source": [
    "WAP for Doubly Queue implementation."
   ]
  },
  {
   "cell_type": "code",
   "execution_count": 2,
   "metadata": {},
   "outputs": [
    {
     "name": "stdout",
     "output_type": "stream",
     "text": [
      "Enter your choice:\n",
      " 0-exit\n",
      " 1-insert\n",
      " 2-delete\n"
     ]
    },
    {
     "name": "stdin",
     "output_type": "stream",
     "text": [
      " 1\n"
     ]
    },
    {
     "name": "stdout",
     "output_type": "stream",
     "text": [
      "Where you want to insert the element:\n",
      "1-front \n",
      "2-rear\n"
     ]
    },
    {
     "name": "stdin",
     "output_type": "stream",
     "text": [
      " 1\n"
     ]
    },
    {
     "name": "stdout",
     "output_type": "stream",
     "text": [
      "Enter element: \n"
     ]
    },
    {
     "name": "stdin",
     "output_type": "stream",
     "text": [
      " 10\n"
     ]
    },
    {
     "name": "stdout",
     "output_type": "stream",
     "text": [
      "['10']\n",
      "Enter your choice: 0-exit 1-insert 2-delete\n"
     ]
    },
    {
     "name": "stdin",
     "output_type": "stream",
     "text": [
      " 1\n"
     ]
    },
    {
     "name": "stdout",
     "output_type": "stream",
     "text": [
      "Where you want to insert the element:\n",
      "1-front \n",
      "2-rear\n"
     ]
    },
    {
     "name": "stdin",
     "output_type": "stream",
     "text": [
      " 1\n"
     ]
    },
    {
     "name": "stdout",
     "output_type": "stream",
     "text": [
      "Enter element: \n"
     ]
    },
    {
     "name": "stdin",
     "output_type": "stream",
     "text": [
      " 20\n"
     ]
    },
    {
     "name": "stdout",
     "output_type": "stream",
     "text": [
      "['20', '10']\n",
      "Enter your choice: 0-exit 1-insert 2-delete\n"
     ]
    },
    {
     "name": "stdin",
     "output_type": "stream",
     "text": [
      " 1\n"
     ]
    },
    {
     "name": "stdout",
     "output_type": "stream",
     "text": [
      "Where you want to insert the element:\n",
      "1-front \n",
      "2-rear\n"
     ]
    },
    {
     "name": "stdin",
     "output_type": "stream",
     "text": [
      " 2\n"
     ]
    },
    {
     "name": "stdout",
     "output_type": "stream",
     "text": [
      "Enter element: \n"
     ]
    },
    {
     "name": "stdin",
     "output_type": "stream",
     "text": [
      " 30\n"
     ]
    },
    {
     "name": "stdout",
     "output_type": "stream",
     "text": [
      "['20', '10', '30']\n",
      "Enter your choice: 0-exit 1-insert 2-delete\n"
     ]
    },
    {
     "name": "stdin",
     "output_type": "stream",
     "text": [
      " 2\n"
     ]
    },
    {
     "name": "stdout",
     "output_type": "stream",
     "text": [
      "Enter your choice:1-front 2-rear\n"
     ]
    },
    {
     "name": "stdin",
     "output_type": "stream",
     "text": [
      " 1\n"
     ]
    },
    {
     "name": "stdout",
     "output_type": "stream",
     "text": [
      "['10', '30']\n",
      "Enter your choice: 0-exit 1-insert 2-delete\n"
     ]
    },
    {
     "name": "stdin",
     "output_type": "stream",
     "text": [
      " 1\n"
     ]
    },
    {
     "name": "stdout",
     "output_type": "stream",
     "text": [
      "Where you want to insert the element:\n",
      "1-front \n",
      "2-rear\n"
     ]
    },
    {
     "name": "stdin",
     "output_type": "stream",
     "text": [
      " 1\n"
     ]
    },
    {
     "name": "stdout",
     "output_type": "stream",
     "text": [
      "Enter element: \n"
     ]
    },
    {
     "name": "stdin",
     "output_type": "stream",
     "text": [
      " 50\n"
     ]
    },
    {
     "name": "stdout",
     "output_type": "stream",
     "text": [
      "['50', '10', '30']\n",
      "Enter your choice: 0-exit 1-insert 2-delete\n"
     ]
    },
    {
     "name": "stdin",
     "output_type": "stream",
     "text": [
      " 2\n"
     ]
    },
    {
     "name": "stdout",
     "output_type": "stream",
     "text": [
      "Enter your choice:1-front 2-rear\n"
     ]
    },
    {
     "name": "stdin",
     "output_type": "stream",
     "text": [
      " 2\n"
     ]
    },
    {
     "name": "stdout",
     "output_type": "stream",
     "text": [
      "['50', '10']\n",
      "Enter your choice: 0-exit 1-insert 2-delete\n"
     ]
    },
    {
     "name": "stdin",
     "output_type": "stream",
     "text": [
      " 0\n"
     ]
    }
   ],
   "source": [
    "class Deque:\n",
    "    def __init__(self):\n",
    "        self.a=[]\n",
    "    def enqueue(self,i,ch):\n",
    "        if (ch==1):\n",
    "            self.a.insert(0,i)\n",
    "            print(self.a)\n",
    "        else:\n",
    "            self.a.append(i)\n",
    "            print(self.a)\n",
    "    def delete(self,ch):\n",
    "        if (len(self.a)==0):\n",
    "            print(\"queue is empty\")\n",
    "        elif (ch==1):\n",
    "            self.a.pop(0)\n",
    "            print(self.a)\n",
    "        else:\n",
    "            self.a.pop(-1)\n",
    "            print(self.a)\n",
    "q=Deque()\n",
    "print(\"Enter your choice:\\n 0-exit\\n 1-insert\\n 2-delete\")\n",
    "ch=int(input())\n",
    "while ch!=0:\n",
    "    if (ch==1):\n",
    "        print(\"Where you want to insert the element:\\n1-front \\n2-rear\")\n",
    "        ch1=int(input())\n",
    "        print(\"Enter element: \")\n",
    "        j=input()\n",
    "        q.enqueue(j,ch1)\n",
    "    else:\n",
    "        print(\"Enter your choice:1-front 2-rear\")\n",
    "        ch2=int(input())\n",
    "        q.delete(ch2)\n",
    "    print(\"Enter your choice: 0-exit 1-insert 2-delete\")\n",
    "    ch=int(input())"
   ]
  }
 ],
 "metadata": {
  "kernelspec": {
   "display_name": "Python 3",
   "language": "python",
   "name": "python3"
  },
  "language_info": {
   "codemirror_mode": {
    "name": "ipython",
    "version": 3
   },
   "file_extension": ".py",
   "mimetype": "text/x-python",
   "name": "python",
   "nbconvert_exporter": "python",
   "pygments_lexer": "ipython3",
   "version": "3.7.3"
  }
 },
 "nbformat": 4,
 "nbformat_minor": 4
}
