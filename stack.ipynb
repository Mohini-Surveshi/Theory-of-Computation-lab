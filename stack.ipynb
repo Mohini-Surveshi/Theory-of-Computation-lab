{
 "cells": [
  {
   "cell_type": "markdown",
   "metadata": {},
   "source": [
    "Balance paranthesis using stack-program1"
   ]
  },
  {
   "cell_type": "code",
   "execution_count": 1,
   "metadata": {},
   "outputs": [
    {
     "name": "stdin",
     "output_type": "stream",
     "text": [
      "Enter the expression: ((()))\n"
     ]
    },
    {
     "name": "stdout",
     "output_type": "stream",
     "text": [
      "True\n"
     ]
    }
   ],
   "source": [
    "class Stack:\n",
    "    def __init__(self):\n",
    "        self.a=[]\n",
    "    def is_empty(self):\n",
    "        return len(self.a)==0\n",
    "    def push(self,item):\n",
    "        self.a.append(item)\n",
    "    def pop(self):\n",
    "        return self.a.pop()\n",
    "s=Stack()\n",
    "exp = input('Enter the expression:')\n",
    "for c in exp:\n",
    "    if c=='(':\n",
    "        s.push('(')\n",
    "    elif c==')':\n",
    "        if s.is_empty():\n",
    "            is_balanced = False\n",
    "            break\n",
    "        s.pop()\n",
    "else:\n",
    "    if s.is_empty():\n",
    "        is_balanced = True\n",
    "    else:\n",
    "        is_balanced = False\n",
    "if is_balanced:\n",
    "    print(True)\n",
    "else:\n",
    "    print(False)"
   ]
  },
  {
   "cell_type": "code",
   "execution_count": 2,
   "metadata": {},
   "outputs": [
    {
     "name": "stdin",
     "output_type": "stream",
     "text": [
      "Enter the expression: (()\n"
     ]
    },
    {
     "name": "stdout",
     "output_type": "stream",
     "text": [
      "False\n"
     ]
    }
   ],
   "source": [
    "class Stack:\n",
    "    def __init__(self):\n",
    "        self.a=[]\n",
    "    def is_empty(self):\n",
    "        return len(self.a)==0\n",
    "    def push(self,item):\n",
    "        self.a.append(item)\n",
    "    def pop(self):\n",
    "        return self.a.pop()\n",
    "s=Stack()\n",
    "exp = input('Enter the expression:')\n",
    "for c in exp:\n",
    "    if c=='(':\n",
    "        s.push('(')\n",
    "    elif c==')':\n",
    "        if s.is_empty():\n",
    "            is_balanced = False\n",
    "            break\n",
    "        s.pop()\n",
    "else:\n",
    "    if s.is_empty():\n",
    "        is_balanced = True\n",
    "    else:\n",
    "        is_balanced = False\n",
    "if is_balanced:\n",
    "    print(True)\n",
    "else:\n",
    "    print(False)"
   ]
  },
  {
   "cell_type": "markdown",
   "metadata": {},
   "source": [
    "Balanced paranthesis-program2"
   ]
  },
  {
   "cell_type": "code",
   "execution_count": 3,
   "metadata": {},
   "outputs": [
    {
     "name": "stdin",
     "output_type": "stream",
     "text": [
      "Enter the expression: {[()]}\n"
     ]
    },
    {
     "name": "stdout",
     "output_type": "stream",
     "text": [
      "balanced\n"
     ]
    }
   ],
   "source": [
    "class Stack:\n",
    "    def __init__(self):\n",
    "        self.a=[]\n",
    "    def is_empty(self):\n",
    "        return len(self.a)==0\n",
    "    def push(self,item):\n",
    "        self.a.append(item)\n",
    "    def pop(self):\n",
    "        return self.a.pop()\n",
    "s=Stack()\n",
    "exp = input('Enter the expression:')\n",
    "for i in exp:\n",
    "    ol = [\"[\",\"{\",\"(\"] \n",
    "    cl =  [\"]\",\"}\",\")\"] \n",
    "    if i in ol:\n",
    "        s.a.append(i)\n",
    "    elif i in cl:\n",
    "        pos=cl.index(i)\n",
    "        if ((len(s.a)>0) and (ol[pos]==s.a[len(s.a)-1])):\n",
    "            s.a.pop()\n",
    "        else:\n",
    "            print(\"unbalanced\")\n",
    "if len(s.a)==0:\n",
    "    print(\"balanced\")"
   ]
  },
  {
   "cell_type": "code",
   "execution_count": 4,
   "metadata": {},
   "outputs": [
    {
     "name": "stdin",
     "output_type": "stream",
     "text": [
      "Enter the expression: {[(])}\n"
     ]
    },
    {
     "name": "stdout",
     "output_type": "stream",
     "text": [
      "unbalanced\n",
      "unbalanced\n"
     ]
    }
   ],
   "source": [
    "class Stack:\n",
    "    def __init__(self):\n",
    "        self.a=[]\n",
    "    def is_empty(self):\n",
    "        return len(self.a)==0\n",
    "    def push(self,item):\n",
    "        self.a.append(item)\n",
    "    def pop(self):\n",
    "        return self.a.pop()\n",
    "s=Stack()\n",
    "exp = input('Enter the expression:')\n",
    "for i in exp:\n",
    "    ol = [\"[\",\"{\",\"(\"] \n",
    "    cl =  [\"]\",\"}\",\")\"] \n",
    "    if i in ol:\n",
    "        s.a.append(i)\n",
    "    elif i in cl:\n",
    "        pos=cl.index(i)\n",
    "        if ((len(s.a)>0) and (ol[pos]==s.a[len(s.a)-1])):\n",
    "            s.a.pop()\n",
    "        else:\n",
    "            print(\"unbalanced\")\n",
    "if len(s.a)==0:\n",
    "    print(\"balanced\")"
   ]
  },
  {
   "cell_type": "code",
   "execution_count": null,
   "metadata": {},
   "outputs": [],
   "source": []
  }
 ],
 "metadata": {
  "kernelspec": {
   "display_name": "Python 3",
   "language": "python",
   "name": "python3"
  },
  "language_info": {
   "codemirror_mode": {
    "name": "ipython",
    "version": 3
   },
   "file_extension": ".py",
   "mimetype": "text/x-python",
   "name": "python",
   "nbconvert_exporter": "python",
   "pygments_lexer": "ipython3",
   "version": "3.7.3"
  }
 },
 "nbformat": 4,
 "nbformat_minor": 4
}
